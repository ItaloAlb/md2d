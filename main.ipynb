{
 "cells": [
  {
   "cell_type": "code",
   "execution_count": 564,
   "id": "ac7b8948-885b-47fe-8175-24534e1e0871",
   "metadata": {},
   "outputs": [],
   "source": [
    "import matplotlib\n",
    "import numpy as np\n",
    "from numpy.linalg import norm\n",
    "from numpy.random import uniform\n",
    "\n",
    "import matplotlib.pyplot as plt\n",
    "import matplotlib.animation as animation\n",
    "\n",
    "from IPython.display import HTML"
   ]
  },
  {
   "cell_type": "code",
   "execution_count": 565,
   "id": "d66b1f1f-97a0-4114-8bbe-8483128b74d5",
   "metadata": {},
   "outputs": [],
   "source": [
    "class System2D:\n",
    "    def __init__(self, x_size: int, y_size: int, N: int, mass: float, periodic_boundary: bool = True):\n",
    "        self.particle_x_position = uniform(0, x_size, N)\n",
    "        self.particle_y_position = uniform(0, y_size, N)\n",
    "\n",
    "        self.particle_x_velocity = np.zeros(N)\n",
    "        self.particle_y_velocity = np.zeros(N)\n",
    "\n",
    "        self.particle_x_force = np.zeros(N)\n",
    "        self.particle_y_force = np.zeros(N)\n",
    "\n",
    "        self.x_size = x_size\n",
    "        self.y_size = y_size\n",
    "        self.N = N\n",
    "        self.m = mass\n",
    "\n",
    "        self.periodic_boundary = periodic_boundary\n",
    "        self.cutoff_radius = np.sqrt(x_size * x_size + y_size * y_size) / 2\n",
    "        # self.molecular_diameter = 0.3405 * 10 ** (-9) # in nm\n",
    "\n",
    "        self.dt = 10 ** (-3)\n",
    "        self.dt_2 = self.dt ** 2\n",
    "        self.dt_2m = self.dt / (2 * self.m)\n",
    "        self.dt_2_2m = self.dt_2 / (2 * self.m)\n",
    "        return\n",
    "        \n",
    "    def update(self):\n",
    "        _updated_x_forces, _updated_y_forces = self._get_updated_forces()\n",
    "        \n",
    "        self._update_velocities(_updated_y_forces, _updated_y_forces)\n",
    "        self._update_forces(_updated_x_forces, _updated_y_forces)\n",
    "        \n",
    "        self._update_positions()\n",
    "        return\n",
    "\n",
    "    def _update_positions(self):\n",
    "        self.particle_x_position += self.particle_x_velocity * self.dt + self.dt_2_2m * self.particle_x_force\n",
    "        self.particle_y_position += self.particle_y_velocity * self.dt + self.dt_2_2m * self.particle_y_force\n",
    "        return\n",
    "\n",
    "    def _update_velocities(self, updated_x_forces, updated_y_forces):\n",
    "        self.particle_x_velocity += (updated_x_forces + self.particle_x_force) * self.dt_2m\n",
    "        self.particle_y_velocity += (updated_y_forces + self.particle_y_force) * self.dt_2m\n",
    "        return\n",
    "\n",
    "    def _update_forces(self, updated_x_forces, updated_y_forces):\n",
    "        self.particle_x_force = updated_x_forces\n",
    "        self.particle_y_force = updated_y_forces\n",
    "        return\n",
    "        \n",
    "    def _get_updated_forces(self):\n",
    "        updated_x_forces = self.particle_x_force\n",
    "        updated_y_forces = self.particle_y_force\n",
    "        \n",
    "        dx = self.particle_x_position[:, np.newaxis] - self.particle_x_position\n",
    "        dy = self.particle_y_position[:, np.newaxis] - self.particle_y_position\n",
    "\n",
    "        if self.periodic_boundary:\n",
    "            dx = dx - self.x_size * np.rint(dx / self.x_size)\n",
    "            dy = dy - self.y_size * np.rint(dy / self.y_size)\n",
    "        \n",
    "        dx_2 = dx * dx\n",
    "        dy_2 = dy * dy\n",
    "    \n",
    "        r_2 = dx_2 + dy_2\n",
    "\n",
    "        for i in range(len(r_2)):\n",
    "            idx = np.where((r_2[i] != 0) & (r_2[i] < self.cutoff_radius))[0]\n",
    "            # print(idx)\n",
    "            _r_2 = r_2[i][idx]\n",
    "            _r_2_i = 1 / _r_2\n",
    "            _r_6_i = np.power(_r_2_i, 3)\n",
    "\n",
    "            for j in range(len(idx)):\n",
    "                _f = 48 * _r_2_i[j] * _r_6_i[j] * (_r_6_i[j] - 0.5)\n",
    "                updated_x_forces[i] += _f * dx[i][idx[j]]\n",
    "                updated_x_forces[i] += _f * dy[i][idx[j]]    \n",
    "                \n",
    "        return updated_x_forces, updated_x_forces"
   ]
  },
  {
   "cell_type": "code",
   "execution_count": 566,
   "id": "1b84faff-61ae-47a4-bbb0-56a173f32449",
   "metadata": {},
   "outputs": [],
   "source": [
    "# box size\n",
    "L: int = 10\n",
    "# number of particles\n",
    "N: int = 10\n",
    "# particle mass\n",
    "mass: float = 1.0"
   ]
  },
  {
   "cell_type": "code",
   "execution_count": 567,
   "id": "947b55d4-5c17-4966-b33a-920c2aeeb761",
   "metadata": {},
   "outputs": [],
   "source": [
    "MD_system2d = System2D(L, L, N, mass)"
   ]
  },
  {
   "cell_type": "code",
   "execution_count": 568,
   "id": "616007df-a9af-4b3b-bd1c-43a467cf4021",
   "metadata": {},
   "outputs": [
    {
     "data": {
      "image/png": "[encoded data removed]",
      "text/plain": [
       "<Figure size 640x480 with 1 Axes>"
      ]
     },
     "metadata": {},
     "output_type": "display_data"
    }
   ],
   "source": [
    "fig, ax = plt.subplots()\n",
    "scat = ax.scatter(MD_system2d.particle_x_position, MD_system2d.particle_y_position)\n",
    "\n",
    "# Function to update the plot\n",
    "def update(frame):\n",
    "    MD_system2d.update()\n",
    "    scat.set_offsets(np.c_[MD_system2d.particle_x_position, MD_system2d.particle_y_position])\n",
    "\n",
    "# Create an animation\n",
    "ani = animation.FuncAnimation(fig, update, frames=100, interval=200)\n",
    "ani.save(\"animation.html\", writer='html')"
   ]
  },
  {
   "cell_type": "code",
   "execution_count": null,
   "id": "228a3830-dc69-490c-bd65-45e08c6dc59d",
   "metadata": {},
   "outputs": [],
   "source": []
  }
 ],
 "metadata": {
  "kernelspec": {
   "display_name": "Python 3 (ipykernel)",
   "language": "python",
   "name": "python3"
  },
  "language_info": {
   "codemirror_mode": {
    "name": "ipython",
    "version": 3
   },
   "file_extension": ".py",
   "mimetype": "text/x-python",
   "name": "python",
   "nbconvert_exporter": "python",
   "pygments_lexer": "ipython3",
   "version": "3.12.3"
  }
 },
 "nbformat": 4,
 "nbformat_minor": 5
}
